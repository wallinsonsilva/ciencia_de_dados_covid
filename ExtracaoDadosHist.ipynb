{
  "nbformat": 4,
  "nbformat_minor": 0,
  "metadata": {
    "colab": {
      "name": "ExtracaoDadosHist.ipynb",
      "provenance": [],
      "collapsed_sections": [],
      "mount_file_id": "1zeFJqySWWk610HGgxhC4fooDVPCUbZ-Y",
      "authorship_tag": "ABX9TyN0PtBBbcv29qB24mD/5MjF",
      "include_colab_link": true
    },
    "kernelspec": {
      "name": "python3",
      "display_name": "Python 3"
    }
  },
  "cells": [
    {
      "cell_type": "markdown",
      "metadata": {
        "id": "view-in-github",
        "colab_type": "text"
      },
      "source": [
        "<a href=\"https://colab.research.google.com/github/wallinsonsilva/ciencia_de_dados_covid/blob/master/ExtracaoDadosHist.ipynb\" target=\"_parent\"><img src=\"https://colab.research.google.com/assets/colab-badge.svg\" alt=\"Open In Colab\"/></a>"
      ]
    },
    {
      "cell_type": "code",
      "metadata": {
        "id": "QcUklMWcRDv0",
        "colab_type": "code",
        "colab": {}
      },
      "source": [
        "import pandas as pd\n",
        "import matplotlib.pyplot as plt\n",
        "import seaborn as sns\n",
        "import numpy as np\n",
        "from scipy.stats import norm\n"
      ],
      "execution_count": null,
      "outputs": []
    },
    {
      "cell_type": "code",
      "metadata": {
        "id": "bEJKpb7YSlRt",
        "colab_type": "code",
        "colab": {
          "base_uri": "https://localhost:8080/",
          "height": 226
        },
        "outputId": "740a4c72-797b-4efe-a414-d325b3fc8496"
      },
      "source": [
        "hist = pd.read_excel(\"/content/drive/My Drive/Projeto Ciencia de dados - COVID 19/OpenSus/HIST_PAINEL_COVIDBR_13ago2020.xlsx\",decimal=\",\")\n",
        "hist.head()"
      ],
      "execution_count": null,
      "outputs": [
        {
          "output_type": "execute_result",
          "data": {
            "text/html": [
              "<div>\n",
              "<style scoped>\n",
              "    .dataframe tbody tr th:only-of-type {\n",
              "        vertical-align: middle;\n",
              "    }\n",
              "\n",
              "    .dataframe tbody tr th {\n",
              "        vertical-align: top;\n",
              "    }\n",
              "\n",
              "    .dataframe thead th {\n",
              "        text-align: right;\n",
              "    }\n",
              "</style>\n",
              "<table border=\"1\" class=\"dataframe\">\n",
              "  <thead>\n",
              "    <tr style=\"text-align: right;\">\n",
              "      <th></th>\n",
              "      <th>regiao</th>\n",
              "      <th>estado</th>\n",
              "      <th>municipio</th>\n",
              "      <th>coduf</th>\n",
              "      <th>codmun</th>\n",
              "      <th>codRegiaoSaude</th>\n",
              "      <th>nomeRegiaoSaude</th>\n",
              "      <th>data</th>\n",
              "      <th>semanaEpi</th>\n",
              "      <th>populacaoTCU2019</th>\n",
              "      <th>casosAcumulado</th>\n",
              "      <th>casosNovos</th>\n",
              "      <th>obitosAcumulado</th>\n",
              "      <th>obitosNovos</th>\n",
              "      <th>Recuperadosnovos</th>\n",
              "      <th>emAcompanhamentoNovos</th>\n",
              "      <th>interior/metropolitana</th>\n",
              "    </tr>\n",
              "  </thead>\n",
              "  <tbody>\n",
              "    <tr>\n",
              "      <th>0</th>\n",
              "      <td>Brasil</td>\n",
              "      <td>NaN</td>\n",
              "      <td>NaN</td>\n",
              "      <td>76</td>\n",
              "      <td>NaN</td>\n",
              "      <td>NaN</td>\n",
              "      <td>NaN</td>\n",
              "      <td>2020-02-25</td>\n",
              "      <td>9</td>\n",
              "      <td>210147125</td>\n",
              "      <td>0</td>\n",
              "      <td>0</td>\n",
              "      <td>0</td>\n",
              "      <td>0</td>\n",
              "      <td>NaN</td>\n",
              "      <td>NaN</td>\n",
              "      <td>NaN</td>\n",
              "    </tr>\n",
              "    <tr>\n",
              "      <th>1</th>\n",
              "      <td>Brasil</td>\n",
              "      <td>NaN</td>\n",
              "      <td>NaN</td>\n",
              "      <td>76</td>\n",
              "      <td>NaN</td>\n",
              "      <td>NaN</td>\n",
              "      <td>NaN</td>\n",
              "      <td>2020-02-26</td>\n",
              "      <td>9</td>\n",
              "      <td>210147125</td>\n",
              "      <td>1</td>\n",
              "      <td>1</td>\n",
              "      <td>0</td>\n",
              "      <td>0</td>\n",
              "      <td>NaN</td>\n",
              "      <td>NaN</td>\n",
              "      <td>NaN</td>\n",
              "    </tr>\n",
              "    <tr>\n",
              "      <th>2</th>\n",
              "      <td>Brasil</td>\n",
              "      <td>NaN</td>\n",
              "      <td>NaN</td>\n",
              "      <td>76</td>\n",
              "      <td>NaN</td>\n",
              "      <td>NaN</td>\n",
              "      <td>NaN</td>\n",
              "      <td>2020-02-27</td>\n",
              "      <td>9</td>\n",
              "      <td>210147125</td>\n",
              "      <td>1</td>\n",
              "      <td>0</td>\n",
              "      <td>0</td>\n",
              "      <td>0</td>\n",
              "      <td>NaN</td>\n",
              "      <td>NaN</td>\n",
              "      <td>NaN</td>\n",
              "    </tr>\n",
              "    <tr>\n",
              "      <th>3</th>\n",
              "      <td>Brasil</td>\n",
              "      <td>NaN</td>\n",
              "      <td>NaN</td>\n",
              "      <td>76</td>\n",
              "      <td>NaN</td>\n",
              "      <td>NaN</td>\n",
              "      <td>NaN</td>\n",
              "      <td>2020-02-28</td>\n",
              "      <td>9</td>\n",
              "      <td>210147125</td>\n",
              "      <td>1</td>\n",
              "      <td>0</td>\n",
              "      <td>0</td>\n",
              "      <td>0</td>\n",
              "      <td>NaN</td>\n",
              "      <td>NaN</td>\n",
              "      <td>NaN</td>\n",
              "    </tr>\n",
              "    <tr>\n",
              "      <th>4</th>\n",
              "      <td>Brasil</td>\n",
              "      <td>NaN</td>\n",
              "      <td>NaN</td>\n",
              "      <td>76</td>\n",
              "      <td>NaN</td>\n",
              "      <td>NaN</td>\n",
              "      <td>NaN</td>\n",
              "      <td>2020-02-29</td>\n",
              "      <td>9</td>\n",
              "      <td>210147125</td>\n",
              "      <td>2</td>\n",
              "      <td>1</td>\n",
              "      <td>0</td>\n",
              "      <td>0</td>\n",
              "      <td>NaN</td>\n",
              "      <td>NaN</td>\n",
              "      <td>NaN</td>\n",
              "    </tr>\n",
              "  </tbody>\n",
              "</table>\n",
              "</div>"
            ],
            "text/plain": [
              "   regiao estado  ... emAcompanhamentoNovos  interior/metropolitana\n",
              "0  Brasil    NaN  ...                   NaN                     NaN\n",
              "1  Brasil    NaN  ...                   NaN                     NaN\n",
              "2  Brasil    NaN  ...                   NaN                     NaN\n",
              "3  Brasil    NaN  ...                   NaN                     NaN\n",
              "4  Brasil    NaN  ...                   NaN                     NaN\n",
              "\n",
              "[5 rows x 17 columns]"
            ]
          },
          "metadata": {
            "tags": []
          },
          "execution_count": 43
        }
      ]
    },
    {
      "cell_type": "code",
      "metadata": {
        "id": "BwSbe8CVTZbF",
        "colab_type": "code",
        "colab": {
          "base_uri": "https://localhost:8080/",
          "height": 35
        },
        "outputId": "4cad8ef2-bd49-4534-9cda-977ed9783227"
      },
      "source": [
        "hist.shape"
      ],
      "execution_count": null,
      "outputs": [
        {
          "output_type": "execute_result",
          "data": {
            "text/plain": [
              "(784028, 17)"
            ]
          },
          "metadata": {
            "tags": []
          },
          "execution_count": 44
        }
      ]
    },
    {
      "cell_type": "code",
      "metadata": {
        "id": "Vd0o6X82qRSe",
        "colab_type": "code",
        "colab": {
          "base_uri": "https://localhost:8080/",
          "height": 35
        },
        "outputId": "598bda42-1ea9-45aa-8e79-24bf7a12afdc"
      },
      "source": [
        "hist = hist.query('estado == \"RN\"')\n",
        "hist.shape"
      ],
      "execution_count": null,
      "outputs": [
        {
          "output_type": "execute_result",
          "data": {
            "text/plain": [
              "(23691, 17)"
            ]
          },
          "metadata": {
            "tags": []
          },
          "execution_count": 45
        }
      ]
    },
    {
      "cell_type": "code",
      "metadata": {
        "id": "zO5bKjHjTzOb",
        "colab_type": "code",
        "colab": {
          "base_uri": "https://localhost:8080/",
          "height": 350
        },
        "outputId": "944b8082-f61a-46fb-edbf-2b12e451b5e8"
      },
      "source": [
        "hist.isnull().sum()"
      ],
      "execution_count": null,
      "outputs": [
        {
          "output_type": "execute_result",
          "data": {
            "text/plain": [
              "regiao                        0\n",
              "estado                        0\n",
              "municipio                   311\n",
              "coduf                         0\n",
              "codmun                      171\n",
              "codRegiaoSaude              311\n",
              "nomeRegiaoSaude             311\n",
              "data                          0\n",
              "semanaEpi                     0\n",
              "populacaoTCU2019            140\n",
              "casosAcumulado                0\n",
              "casosNovos                    0\n",
              "obitosAcumulado               0\n",
              "obitosNovos                   0\n",
              "Recuperadosnovos          23691\n",
              "emAcompanhamentoNovos     23691\n",
              "interior/metropolitana      311\n",
              "dtype: int64"
            ]
          },
          "metadata": {
            "tags": []
          },
          "execution_count": 46
        }
      ]
    },
    {
      "cell_type": "code",
      "metadata": {
        "id": "2us1FGXfUCID",
        "colab_type": "code",
        "colab": {
          "base_uri": "https://localhost:8080/",
          "height": 237
        },
        "outputId": "b56f4cdf-3717-4ee0-a754-f90f38fb4cab"
      },
      "source": [
        "dados = hist[['estado','municipio','coduf','codmun','codRegiaoSaude','nomeRegiaoSaude','populacaoTCU2019','casosAcumulado','casosNovos','obitosNovos']]\n",
        "print(dados.shape)\n",
        "dados.isnull().sum()"
      ],
      "execution_count": 79,
      "outputs": [
        {
          "output_type": "stream",
          "text": [
            "(23691, 10)\n"
          ],
          "name": "stdout"
        },
        {
          "output_type": "execute_result",
          "data": {
            "text/plain": [
              "estado                0\n",
              "municipio           311\n",
              "coduf                 0\n",
              "codmun              171\n",
              "codRegiaoSaude      311\n",
              "nomeRegiaoSaude     311\n",
              "populacaoTCU2019    140\n",
              "casosAcumulado        0\n",
              "casosNovos            0\n",
              "obitosNovos           0\n",
              "dtype: int64"
            ]
          },
          "metadata": {
            "tags": []
          },
          "execution_count": 79
        }
      ]
    },
    {
      "cell_type": "code",
      "metadata": {
        "id": "0pxdFlhiaWn8",
        "colab_type": "code",
        "colab": {
          "base_uri": "https://localhost:8080/",
          "height": 237
        },
        "outputId": "df8cf035-782a-49c2-b58e-cb75b715e480"
      },
      "source": [
        "dados = dados.dropna()\n",
        "print(dados.shape)\n",
        "dados.isnull().sum()"
      ],
      "execution_count": 80,
      "outputs": [
        {
          "output_type": "stream",
          "text": [
            "(23380, 10)\n"
          ],
          "name": "stdout"
        },
        {
          "output_type": "execute_result",
          "data": {
            "text/plain": [
              "estado              0\n",
              "municipio           0\n",
              "coduf               0\n",
              "codmun              0\n",
              "codRegiaoSaude      0\n",
              "nomeRegiaoSaude     0\n",
              "populacaoTCU2019    0\n",
              "casosAcumulado      0\n",
              "casosNovos          0\n",
              "obitosNovos         0\n",
              "dtype: int64"
            ]
          },
          "metadata": {
            "tags": []
          },
          "execution_count": 80
        }
      ]
    },
    {
      "cell_type": "code",
      "metadata": {
        "id": "W6TR0R0WfTvs",
        "colab_type": "code",
        "colab": {
          "base_uri": "https://localhost:8080/",
          "height": 424
        },
        "outputId": "899bfd78-c6da-4fcc-e1de-818bf3996a63"
      },
      "source": [
        "dados.head(-1)"
      ],
      "execution_count": 81,
      "outputs": [
        {
          "output_type": "execute_result",
          "data": {
            "text/html": [
              "<div>\n",
              "<style scoped>\n",
              "    .dataframe tbody tr th:only-of-type {\n",
              "        vertical-align: middle;\n",
              "    }\n",
              "\n",
              "    .dataframe tbody tr th {\n",
              "        vertical-align: top;\n",
              "    }\n",
              "\n",
              "    .dataframe thead th {\n",
              "        text-align: right;\n",
              "    }\n",
              "</style>\n",
              "<table border=\"1\" class=\"dataframe\">\n",
              "  <thead>\n",
              "    <tr style=\"text-align: right;\">\n",
              "      <th></th>\n",
              "      <th>estado</th>\n",
              "      <th>municipio</th>\n",
              "      <th>coduf</th>\n",
              "      <th>codmun</th>\n",
              "      <th>codRegiaoSaude</th>\n",
              "      <th>nomeRegiaoSaude</th>\n",
              "      <th>populacaoTCU2019</th>\n",
              "      <th>casosAcumulado</th>\n",
              "      <th>casosNovos</th>\n",
              "      <th>obitosNovos</th>\n",
              "    </tr>\n",
              "  </thead>\n",
              "  <tbody>\n",
              "    <tr>\n",
              "      <th>155988</th>\n",
              "      <td>RN</td>\n",
              "      <td>Acari</td>\n",
              "      <td>24</td>\n",
              "      <td>240010.0</td>\n",
              "      <td>24004.0</td>\n",
              "      <td>4ª REGIAO DE SAUDE - CAICO</td>\n",
              "      <td>11136</td>\n",
              "      <td>0</td>\n",
              "      <td>0</td>\n",
              "      <td>0</td>\n",
              "    </tr>\n",
              "    <tr>\n",
              "      <th>155989</th>\n",
              "      <td>RN</td>\n",
              "      <td>Acari</td>\n",
              "      <td>24</td>\n",
              "      <td>240010.0</td>\n",
              "      <td>24004.0</td>\n",
              "      <td>4ª REGIAO DE SAUDE - CAICO</td>\n",
              "      <td>11136</td>\n",
              "      <td>0</td>\n",
              "      <td>0</td>\n",
              "      <td>0</td>\n",
              "    </tr>\n",
              "    <tr>\n",
              "      <th>155990</th>\n",
              "      <td>RN</td>\n",
              "      <td>Acari</td>\n",
              "      <td>24</td>\n",
              "      <td>240010.0</td>\n",
              "      <td>24004.0</td>\n",
              "      <td>4ª REGIAO DE SAUDE - CAICO</td>\n",
              "      <td>11136</td>\n",
              "      <td>0</td>\n",
              "      <td>0</td>\n",
              "      <td>0</td>\n",
              "    </tr>\n",
              "    <tr>\n",
              "      <th>155991</th>\n",
              "      <td>RN</td>\n",
              "      <td>Acari</td>\n",
              "      <td>24</td>\n",
              "      <td>240010.0</td>\n",
              "      <td>24004.0</td>\n",
              "      <td>4ª REGIAO DE SAUDE - CAICO</td>\n",
              "      <td>11136</td>\n",
              "      <td>0</td>\n",
              "      <td>0</td>\n",
              "      <td>0</td>\n",
              "    </tr>\n",
              "    <tr>\n",
              "      <th>155992</th>\n",
              "      <td>RN</td>\n",
              "      <td>Acari</td>\n",
              "      <td>24</td>\n",
              "      <td>240010.0</td>\n",
              "      <td>24004.0</td>\n",
              "      <td>4ª REGIAO DE SAUDE - CAICO</td>\n",
              "      <td>11136</td>\n",
              "      <td>0</td>\n",
              "      <td>0</td>\n",
              "      <td>0</td>\n",
              "    </tr>\n",
              "    <tr>\n",
              "      <th>...</th>\n",
              "      <td>...</td>\n",
              "      <td>...</td>\n",
              "      <td>...</td>\n",
              "      <td>...</td>\n",
              "      <td>...</td>\n",
              "      <td>...</td>\n",
              "      <td>...</td>\n",
              "      <td>...</td>\n",
              "      <td>...</td>\n",
              "      <td>...</td>\n",
              "    </tr>\n",
              "    <tr>\n",
              "      <th>179362</th>\n",
              "      <td>RN</td>\n",
              "      <td>Vila Flor</td>\n",
              "      <td>24</td>\n",
              "      <td>241500.0</td>\n",
              "      <td>24001.0</td>\n",
              "      <td>1ª REGIAO DE SAUDE - SAO JOSE DE MIPIBU</td>\n",
              "      <td>3170</td>\n",
              "      <td>82</td>\n",
              "      <td>0</td>\n",
              "      <td>0</td>\n",
              "    </tr>\n",
              "    <tr>\n",
              "      <th>179363</th>\n",
              "      <td>RN</td>\n",
              "      <td>Vila Flor</td>\n",
              "      <td>24</td>\n",
              "      <td>241500.0</td>\n",
              "      <td>24001.0</td>\n",
              "      <td>1ª REGIAO DE SAUDE - SAO JOSE DE MIPIBU</td>\n",
              "      <td>3170</td>\n",
              "      <td>82</td>\n",
              "      <td>0</td>\n",
              "      <td>0</td>\n",
              "    </tr>\n",
              "    <tr>\n",
              "      <th>179364</th>\n",
              "      <td>RN</td>\n",
              "      <td>Vila Flor</td>\n",
              "      <td>24</td>\n",
              "      <td>241500.0</td>\n",
              "      <td>24001.0</td>\n",
              "      <td>1ª REGIAO DE SAUDE - SAO JOSE DE MIPIBU</td>\n",
              "      <td>3170</td>\n",
              "      <td>82</td>\n",
              "      <td>0</td>\n",
              "      <td>0</td>\n",
              "    </tr>\n",
              "    <tr>\n",
              "      <th>179365</th>\n",
              "      <td>RN</td>\n",
              "      <td>Vila Flor</td>\n",
              "      <td>24</td>\n",
              "      <td>241500.0</td>\n",
              "      <td>24001.0</td>\n",
              "      <td>1ª REGIAO DE SAUDE - SAO JOSE DE MIPIBU</td>\n",
              "      <td>3170</td>\n",
              "      <td>82</td>\n",
              "      <td>0</td>\n",
              "      <td>0</td>\n",
              "    </tr>\n",
              "    <tr>\n",
              "      <th>179366</th>\n",
              "      <td>RN</td>\n",
              "      <td>Vila Flor</td>\n",
              "      <td>24</td>\n",
              "      <td>241500.0</td>\n",
              "      <td>24001.0</td>\n",
              "      <td>1ª REGIAO DE SAUDE - SAO JOSE DE MIPIBU</td>\n",
              "      <td>3170</td>\n",
              "      <td>86</td>\n",
              "      <td>4</td>\n",
              "      <td>0</td>\n",
              "    </tr>\n",
              "  </tbody>\n",
              "</table>\n",
              "<p>23379 rows × 10 columns</p>\n",
              "</div>"
            ],
            "text/plain": [
              "       estado  municipio  coduf  ...  casosAcumulado  casosNovos obitosNovos\n",
              "155988     RN      Acari     24  ...               0           0           0\n",
              "155989     RN      Acari     24  ...               0           0           0\n",
              "155990     RN      Acari     24  ...               0           0           0\n",
              "155991     RN      Acari     24  ...               0           0           0\n",
              "155992     RN      Acari     24  ...               0           0           0\n",
              "...       ...        ...    ...  ...             ...         ...         ...\n",
              "179362     RN  Vila Flor     24  ...              82           0           0\n",
              "179363     RN  Vila Flor     24  ...              82           0           0\n",
              "179364     RN  Vila Flor     24  ...              82           0           0\n",
              "179365     RN  Vila Flor     24  ...              82           0           0\n",
              "179366     RN  Vila Flor     24  ...              86           4           0\n",
              "\n",
              "[23379 rows x 10 columns]"
            ]
          },
          "metadata": {
            "tags": []
          },
          "execution_count": 81
        }
      ]
    },
    {
      "cell_type": "code",
      "metadata": {
        "id": "qdcCA6C6qobF",
        "colab_type": "code",
        "colab": {}
      },
      "source": [
        "#Limpa os valores no formato 102.400(7)\n",
        "dados['populacaoTCU2019'] = dados['populacaoTCU2019'].str.replace('\\(.*\\)','').str.replace('.','')"
      ],
      "execution_count": 82,
      "outputs": []
    },
    {
      "cell_type": "code",
      "metadata": {
        "id": "aK1tuQ5rdTb6",
        "colab_type": "code",
        "colab": {}
      },
      "source": [
        "dados.codmun = dados.codmun.astype(str)\n",
        "dados.populacaoTCU2019 = dados.populacaoTCU2019.astype('int64')\n",
        "dados.codmun = dados.codmun.astype('float').astype('int64').astype(str)\n",
        "dados.codRegiaoSaude = dados.codRegiaoSaude.astype('float').astype('int64').astype(str)\n",
        "#Dados contem todo o histórico da evolução dos casos nos municípios do RN\n",
        "dados.head(-1)\n",
        "dados.to_csv('/content/drive/My Drive/Projeto Ciencia de dados - COVID 19/Dados Gerados/ET_HIST_RN.csv',index=False)"
      ],
      "execution_count": 83,
      "outputs": []
    },
    {
      "cell_type": "code",
      "metadata": {
        "id": "nN5GNPbpxNIZ",
        "colab_type": "code",
        "colab": {
          "base_uri": "https://localhost:8080/",
          "height": 424
        },
        "outputId": "aa998fda-c524-4a6e-8ada-46f693af03fc"
      },
      "source": [
        "dados"
      ],
      "execution_count": 84,
      "outputs": [
        {
          "output_type": "execute_result",
          "data": {
            "text/html": [
              "<div>\n",
              "<style scoped>\n",
              "    .dataframe tbody tr th:only-of-type {\n",
              "        vertical-align: middle;\n",
              "    }\n",
              "\n",
              "    .dataframe tbody tr th {\n",
              "        vertical-align: top;\n",
              "    }\n",
              "\n",
              "    .dataframe thead th {\n",
              "        text-align: right;\n",
              "    }\n",
              "</style>\n",
              "<table border=\"1\" class=\"dataframe\">\n",
              "  <thead>\n",
              "    <tr style=\"text-align: right;\">\n",
              "      <th></th>\n",
              "      <th>estado</th>\n",
              "      <th>municipio</th>\n",
              "      <th>coduf</th>\n",
              "      <th>codmun</th>\n",
              "      <th>codRegiaoSaude</th>\n",
              "      <th>nomeRegiaoSaude</th>\n",
              "      <th>populacaoTCU2019</th>\n",
              "      <th>casosAcumulado</th>\n",
              "      <th>casosNovos</th>\n",
              "      <th>obitosNovos</th>\n",
              "    </tr>\n",
              "  </thead>\n",
              "  <tbody>\n",
              "    <tr>\n",
              "      <th>155988</th>\n",
              "      <td>RN</td>\n",
              "      <td>Acari</td>\n",
              "      <td>24</td>\n",
              "      <td>240010</td>\n",
              "      <td>24004</td>\n",
              "      <td>4ª REGIAO DE SAUDE - CAICO</td>\n",
              "      <td>11136</td>\n",
              "      <td>0</td>\n",
              "      <td>0</td>\n",
              "      <td>0</td>\n",
              "    </tr>\n",
              "    <tr>\n",
              "      <th>155989</th>\n",
              "      <td>RN</td>\n",
              "      <td>Acari</td>\n",
              "      <td>24</td>\n",
              "      <td>240010</td>\n",
              "      <td>24004</td>\n",
              "      <td>4ª REGIAO DE SAUDE - CAICO</td>\n",
              "      <td>11136</td>\n",
              "      <td>0</td>\n",
              "      <td>0</td>\n",
              "      <td>0</td>\n",
              "    </tr>\n",
              "    <tr>\n",
              "      <th>155990</th>\n",
              "      <td>RN</td>\n",
              "      <td>Acari</td>\n",
              "      <td>24</td>\n",
              "      <td>240010</td>\n",
              "      <td>24004</td>\n",
              "      <td>4ª REGIAO DE SAUDE - CAICO</td>\n",
              "      <td>11136</td>\n",
              "      <td>0</td>\n",
              "      <td>0</td>\n",
              "      <td>0</td>\n",
              "    </tr>\n",
              "    <tr>\n",
              "      <th>155991</th>\n",
              "      <td>RN</td>\n",
              "      <td>Acari</td>\n",
              "      <td>24</td>\n",
              "      <td>240010</td>\n",
              "      <td>24004</td>\n",
              "      <td>4ª REGIAO DE SAUDE - CAICO</td>\n",
              "      <td>11136</td>\n",
              "      <td>0</td>\n",
              "      <td>0</td>\n",
              "      <td>0</td>\n",
              "    </tr>\n",
              "    <tr>\n",
              "      <th>155992</th>\n",
              "      <td>RN</td>\n",
              "      <td>Acari</td>\n",
              "      <td>24</td>\n",
              "      <td>240010</td>\n",
              "      <td>24004</td>\n",
              "      <td>4ª REGIAO DE SAUDE - CAICO</td>\n",
              "      <td>11136</td>\n",
              "      <td>0</td>\n",
              "      <td>0</td>\n",
              "      <td>0</td>\n",
              "    </tr>\n",
              "    <tr>\n",
              "      <th>...</th>\n",
              "      <td>...</td>\n",
              "      <td>...</td>\n",
              "      <td>...</td>\n",
              "      <td>...</td>\n",
              "      <td>...</td>\n",
              "      <td>...</td>\n",
              "      <td>...</td>\n",
              "      <td>...</td>\n",
              "      <td>...</td>\n",
              "      <td>...</td>\n",
              "    </tr>\n",
              "    <tr>\n",
              "      <th>179363</th>\n",
              "      <td>RN</td>\n",
              "      <td>Vila Flor</td>\n",
              "      <td>24</td>\n",
              "      <td>241500</td>\n",
              "      <td>24001</td>\n",
              "      <td>1ª REGIAO DE SAUDE - SAO JOSE DE MIPIBU</td>\n",
              "      <td>3170</td>\n",
              "      <td>82</td>\n",
              "      <td>0</td>\n",
              "      <td>0</td>\n",
              "    </tr>\n",
              "    <tr>\n",
              "      <th>179364</th>\n",
              "      <td>RN</td>\n",
              "      <td>Vila Flor</td>\n",
              "      <td>24</td>\n",
              "      <td>241500</td>\n",
              "      <td>24001</td>\n",
              "      <td>1ª REGIAO DE SAUDE - SAO JOSE DE MIPIBU</td>\n",
              "      <td>3170</td>\n",
              "      <td>82</td>\n",
              "      <td>0</td>\n",
              "      <td>0</td>\n",
              "    </tr>\n",
              "    <tr>\n",
              "      <th>179365</th>\n",
              "      <td>RN</td>\n",
              "      <td>Vila Flor</td>\n",
              "      <td>24</td>\n",
              "      <td>241500</td>\n",
              "      <td>24001</td>\n",
              "      <td>1ª REGIAO DE SAUDE - SAO JOSE DE MIPIBU</td>\n",
              "      <td>3170</td>\n",
              "      <td>82</td>\n",
              "      <td>0</td>\n",
              "      <td>0</td>\n",
              "    </tr>\n",
              "    <tr>\n",
              "      <th>179366</th>\n",
              "      <td>RN</td>\n",
              "      <td>Vila Flor</td>\n",
              "      <td>24</td>\n",
              "      <td>241500</td>\n",
              "      <td>24001</td>\n",
              "      <td>1ª REGIAO DE SAUDE - SAO JOSE DE MIPIBU</td>\n",
              "      <td>3170</td>\n",
              "      <td>86</td>\n",
              "      <td>4</td>\n",
              "      <td>0</td>\n",
              "    </tr>\n",
              "    <tr>\n",
              "      <th>179367</th>\n",
              "      <td>RN</td>\n",
              "      <td>Vila Flor</td>\n",
              "      <td>24</td>\n",
              "      <td>241500</td>\n",
              "      <td>24001</td>\n",
              "      <td>1ª REGIAO DE SAUDE - SAO JOSE DE MIPIBU</td>\n",
              "      <td>3170</td>\n",
              "      <td>89</td>\n",
              "      <td>3</td>\n",
              "      <td>0</td>\n",
              "    </tr>\n",
              "  </tbody>\n",
              "</table>\n",
              "<p>23380 rows × 10 columns</p>\n",
              "</div>"
            ],
            "text/plain": [
              "       estado  municipio  coduf  ... casosAcumulado casosNovos obitosNovos\n",
              "155988     RN      Acari     24  ...              0          0           0\n",
              "155989     RN      Acari     24  ...              0          0           0\n",
              "155990     RN      Acari     24  ...              0          0           0\n",
              "155991     RN      Acari     24  ...              0          0           0\n",
              "155992     RN      Acari     24  ...              0          0           0\n",
              "...       ...        ...    ...  ...            ...        ...         ...\n",
              "179363     RN  Vila Flor     24  ...             82          0           0\n",
              "179364     RN  Vila Flor     24  ...             82          0           0\n",
              "179365     RN  Vila Flor     24  ...             82          0           0\n",
              "179366     RN  Vila Flor     24  ...             86          4           0\n",
              "179367     RN  Vila Flor     24  ...             89          3           0\n",
              "\n",
              "[23380 rows x 10 columns]"
            ]
          },
          "metadata": {
            "tags": []
          },
          "execution_count": 84
        }
      ]
    },
    {
      "cell_type": "code",
      "metadata": {
        "id": "ovZBUstfTTdR",
        "colab_type": "code",
        "colab": {
          "base_uri": "https://localhost:8080/",
          "height": 424
        },
        "outputId": "93bc4122-f35a-40ca-f843-9f6f401ac92f"
      },
      "source": [
        "type(dados)\n",
        "casos_municipio = pd.pivot_table(dados, index=['codmun','municipio','codRegiaoSaude','nomeRegiaoSaude','populacaoTCU2019'],values=['casosNovos','obitosNovos'],aggfunc=np.sum)\n",
        "casos_municipio = casos_municipio.reset_index()\n",
        "casos_municipio = pd.DataFrame(casos_municipio)\n",
        "#Dados contendo os casos acumulados de cada municipio do RN\n",
        "casos_municipio"
      ],
      "execution_count": 95,
      "outputs": [
        {
          "output_type": "execute_result",
          "data": {
            "text/html": [
              "<div>\n",
              "<style scoped>\n",
              "    .dataframe tbody tr th:only-of-type {\n",
              "        vertical-align: middle;\n",
              "    }\n",
              "\n",
              "    .dataframe tbody tr th {\n",
              "        vertical-align: top;\n",
              "    }\n",
              "\n",
              "    .dataframe thead th {\n",
              "        text-align: right;\n",
              "    }\n",
              "</style>\n",
              "<table border=\"1\" class=\"dataframe\">\n",
              "  <thead>\n",
              "    <tr style=\"text-align: right;\">\n",
              "      <th></th>\n",
              "      <th>codmun</th>\n",
              "      <th>municipio</th>\n",
              "      <th>codRegiaoSaude</th>\n",
              "      <th>nomeRegiaoSaude</th>\n",
              "      <th>populacaoTCU2019</th>\n",
              "      <th>casosNovos</th>\n",
              "      <th>obitosNovos</th>\n",
              "    </tr>\n",
              "  </thead>\n",
              "  <tbody>\n",
              "    <tr>\n",
              "      <th>0</th>\n",
              "      <td>240010</td>\n",
              "      <td>Acari</td>\n",
              "      <td>24004</td>\n",
              "      <td>4ª REGIAO DE SAUDE - CAICO</td>\n",
              "      <td>11136</td>\n",
              "      <td>61</td>\n",
              "      <td>3</td>\n",
              "    </tr>\n",
              "    <tr>\n",
              "      <th>1</th>\n",
              "      <td>240020</td>\n",
              "      <td>Açu</td>\n",
              "      <td>24008</td>\n",
              "      <td>8ª REGIAO DE SAUDE - ACU</td>\n",
              "      <td>58017</td>\n",
              "      <td>1167</td>\n",
              "      <td>51</td>\n",
              "    </tr>\n",
              "    <tr>\n",
              "      <th>2</th>\n",
              "      <td>240030</td>\n",
              "      <td>Afonso Bezerra</td>\n",
              "      <td>24003</td>\n",
              "      <td>3ª REGIAO DE SAUDE - JOAO CAMARA</td>\n",
              "      <td>11035</td>\n",
              "      <td>101</td>\n",
              "      <td>6</td>\n",
              "    </tr>\n",
              "    <tr>\n",
              "      <th>3</th>\n",
              "      <td>240040</td>\n",
              "      <td>Água Nova</td>\n",
              "      <td>24006</td>\n",
              "      <td>6ª REGIAO DE SAUDE - PAU DOS FERROS</td>\n",
              "      <td>3252</td>\n",
              "      <td>20</td>\n",
              "      <td>0</td>\n",
              "    </tr>\n",
              "    <tr>\n",
              "      <th>4</th>\n",
              "      <td>240050</td>\n",
              "      <td>Alexandria</td>\n",
              "      <td>24006</td>\n",
              "      <td>6ª REGIAO DE SAUDE - PAU DOS FERROS</td>\n",
              "      <td>13577</td>\n",
              "      <td>44</td>\n",
              "      <td>4</td>\n",
              "    </tr>\n",
              "    <tr>\n",
              "      <th>...</th>\n",
              "      <td>...</td>\n",
              "      <td>...</td>\n",
              "      <td>...</td>\n",
              "      <td>...</td>\n",
              "      <td>...</td>\n",
              "      <td>...</td>\n",
              "      <td>...</td>\n",
              "    </tr>\n",
              "    <tr>\n",
              "      <th>162</th>\n",
              "      <td>241470</td>\n",
              "      <td>Várzea</td>\n",
              "      <td>24001</td>\n",
              "      <td>1ª REGIAO DE SAUDE - SAO JOSE DE MIPIBU</td>\n",
              "      <td>5500</td>\n",
              "      <td>81</td>\n",
              "      <td>5</td>\n",
              "    </tr>\n",
              "    <tr>\n",
              "      <th>163</th>\n",
              "      <td>241475</td>\n",
              "      <td>Venha-Ver</td>\n",
              "      <td>24006</td>\n",
              "      <td>6ª REGIAO DE SAUDE - PAU DOS FERROS</td>\n",
              "      <td>4177</td>\n",
              "      <td>8</td>\n",
              "      <td>3</td>\n",
              "    </tr>\n",
              "    <tr>\n",
              "      <th>164</th>\n",
              "      <td>241480</td>\n",
              "      <td>Vera Cruz</td>\n",
              "      <td>24001</td>\n",
              "      <td>1ª REGIAO DE SAUDE - SAO JOSE DE MIPIBU</td>\n",
              "      <td>12481</td>\n",
              "      <td>119</td>\n",
              "      <td>6</td>\n",
              "    </tr>\n",
              "    <tr>\n",
              "      <th>165</th>\n",
              "      <td>241490</td>\n",
              "      <td>Viçosa</td>\n",
              "      <td>24006</td>\n",
              "      <td>6ª REGIAO DE SAUDE - PAU DOS FERROS</td>\n",
              "      <td>1718</td>\n",
              "      <td>9</td>\n",
              "      <td>0</td>\n",
              "    </tr>\n",
              "    <tr>\n",
              "      <th>166</th>\n",
              "      <td>241500</td>\n",
              "      <td>Vila Flor</td>\n",
              "      <td>24001</td>\n",
              "      <td>1ª REGIAO DE SAUDE - SAO JOSE DE MIPIBU</td>\n",
              "      <td>3170</td>\n",
              "      <td>89</td>\n",
              "      <td>0</td>\n",
              "    </tr>\n",
              "  </tbody>\n",
              "</table>\n",
              "<p>167 rows × 7 columns</p>\n",
              "</div>"
            ],
            "text/plain": [
              "     codmun       municipio  ... casosNovos obitosNovos\n",
              "0    240010           Acari  ...         61           3\n",
              "1    240020             Açu  ...       1167          51\n",
              "2    240030  Afonso Bezerra  ...        101           6\n",
              "3    240040       Água Nova  ...         20           0\n",
              "4    240050      Alexandria  ...         44           4\n",
              "..      ...             ...  ...        ...         ...\n",
              "162  241470          Várzea  ...         81           5\n",
              "163  241475       Venha-Ver  ...          8           3\n",
              "164  241480       Vera Cruz  ...        119           6\n",
              "165  241490          Viçosa  ...          9           0\n",
              "166  241500       Vila Flor  ...         89           0\n",
              "\n",
              "[167 rows x 7 columns]"
            ]
          },
          "metadata": {
            "tags": []
          },
          "execution_count": 95
        }
      ]
    },
    {
      "cell_type": "code",
      "metadata": {
        "id": "r6nFvqT5JJ6_",
        "colab_type": "code",
        "colab": {
          "base_uri": "https://localhost:8080/",
          "height": 424
        },
        "outputId": "96aab757-e9f8-4cb1-fde1-85a25ea775a8"
      },
      "source": [
        "casos_municipio.rename(columns={'obitosNovos': 'obitosAcumulado'}, inplace = True)\n",
        "casos_municipio.rename(columns={'casosNovos': 'casosAcumulado'}, inplace = True)\n",
        "casos_municipio"
      ],
      "execution_count": 96,
      "outputs": [
        {
          "output_type": "execute_result",
          "data": {
            "text/html": [
              "<div>\n",
              "<style scoped>\n",
              "    .dataframe tbody tr th:only-of-type {\n",
              "        vertical-align: middle;\n",
              "    }\n",
              "\n",
              "    .dataframe tbody tr th {\n",
              "        vertical-align: top;\n",
              "    }\n",
              "\n",
              "    .dataframe thead th {\n",
              "        text-align: right;\n",
              "    }\n",
              "</style>\n",
              "<table border=\"1\" class=\"dataframe\">\n",
              "  <thead>\n",
              "    <tr style=\"text-align: right;\">\n",
              "      <th></th>\n",
              "      <th>codmun</th>\n",
              "      <th>municipio</th>\n",
              "      <th>codRegiaoSaude</th>\n",
              "      <th>nomeRegiaoSaude</th>\n",
              "      <th>populacaoTCU2019</th>\n",
              "      <th>casosAcumulado</th>\n",
              "      <th>obitosAcumulado</th>\n",
              "    </tr>\n",
              "  </thead>\n",
              "  <tbody>\n",
              "    <tr>\n",
              "      <th>0</th>\n",
              "      <td>240010</td>\n",
              "      <td>Acari</td>\n",
              "      <td>24004</td>\n",
              "      <td>4ª REGIAO DE SAUDE - CAICO</td>\n",
              "      <td>11136</td>\n",
              "      <td>61</td>\n",
              "      <td>3</td>\n",
              "    </tr>\n",
              "    <tr>\n",
              "      <th>1</th>\n",
              "      <td>240020</td>\n",
              "      <td>Açu</td>\n",
              "      <td>24008</td>\n",
              "      <td>8ª REGIAO DE SAUDE - ACU</td>\n",
              "      <td>58017</td>\n",
              "      <td>1167</td>\n",
              "      <td>51</td>\n",
              "    </tr>\n",
              "    <tr>\n",
              "      <th>2</th>\n",
              "      <td>240030</td>\n",
              "      <td>Afonso Bezerra</td>\n",
              "      <td>24003</td>\n",
              "      <td>3ª REGIAO DE SAUDE - JOAO CAMARA</td>\n",
              "      <td>11035</td>\n",
              "      <td>101</td>\n",
              "      <td>6</td>\n",
              "    </tr>\n",
              "    <tr>\n",
              "      <th>3</th>\n",
              "      <td>240040</td>\n",
              "      <td>Água Nova</td>\n",
              "      <td>24006</td>\n",
              "      <td>6ª REGIAO DE SAUDE - PAU DOS FERROS</td>\n",
              "      <td>3252</td>\n",
              "      <td>20</td>\n",
              "      <td>0</td>\n",
              "    </tr>\n",
              "    <tr>\n",
              "      <th>4</th>\n",
              "      <td>240050</td>\n",
              "      <td>Alexandria</td>\n",
              "      <td>24006</td>\n",
              "      <td>6ª REGIAO DE SAUDE - PAU DOS FERROS</td>\n",
              "      <td>13577</td>\n",
              "      <td>44</td>\n",
              "      <td>4</td>\n",
              "    </tr>\n",
              "    <tr>\n",
              "      <th>...</th>\n",
              "      <td>...</td>\n",
              "      <td>...</td>\n",
              "      <td>...</td>\n",
              "      <td>...</td>\n",
              "      <td>...</td>\n",
              "      <td>...</td>\n",
              "      <td>...</td>\n",
              "    </tr>\n",
              "    <tr>\n",
              "      <th>162</th>\n",
              "      <td>241470</td>\n",
              "      <td>Várzea</td>\n",
              "      <td>24001</td>\n",
              "      <td>1ª REGIAO DE SAUDE - SAO JOSE DE MIPIBU</td>\n",
              "      <td>5500</td>\n",
              "      <td>81</td>\n",
              "      <td>5</td>\n",
              "    </tr>\n",
              "    <tr>\n",
              "      <th>163</th>\n",
              "      <td>241475</td>\n",
              "      <td>Venha-Ver</td>\n",
              "      <td>24006</td>\n",
              "      <td>6ª REGIAO DE SAUDE - PAU DOS FERROS</td>\n",
              "      <td>4177</td>\n",
              "      <td>8</td>\n",
              "      <td>3</td>\n",
              "    </tr>\n",
              "    <tr>\n",
              "      <th>164</th>\n",
              "      <td>241480</td>\n",
              "      <td>Vera Cruz</td>\n",
              "      <td>24001</td>\n",
              "      <td>1ª REGIAO DE SAUDE - SAO JOSE DE MIPIBU</td>\n",
              "      <td>12481</td>\n",
              "      <td>119</td>\n",
              "      <td>6</td>\n",
              "    </tr>\n",
              "    <tr>\n",
              "      <th>165</th>\n",
              "      <td>241490</td>\n",
              "      <td>Viçosa</td>\n",
              "      <td>24006</td>\n",
              "      <td>6ª REGIAO DE SAUDE - PAU DOS FERROS</td>\n",
              "      <td>1718</td>\n",
              "      <td>9</td>\n",
              "      <td>0</td>\n",
              "    </tr>\n",
              "    <tr>\n",
              "      <th>166</th>\n",
              "      <td>241500</td>\n",
              "      <td>Vila Flor</td>\n",
              "      <td>24001</td>\n",
              "      <td>1ª REGIAO DE SAUDE - SAO JOSE DE MIPIBU</td>\n",
              "      <td>3170</td>\n",
              "      <td>89</td>\n",
              "      <td>0</td>\n",
              "    </tr>\n",
              "  </tbody>\n",
              "</table>\n",
              "<p>167 rows × 7 columns</p>\n",
              "</div>"
            ],
            "text/plain": [
              "     codmun       municipio  ... casosAcumulado obitosAcumulado\n",
              "0    240010           Acari  ...             61               3\n",
              "1    240020             Açu  ...           1167              51\n",
              "2    240030  Afonso Bezerra  ...            101               6\n",
              "3    240040       Água Nova  ...             20               0\n",
              "4    240050      Alexandria  ...             44               4\n",
              "..      ...             ...  ...            ...             ...\n",
              "162  241470          Várzea  ...             81               5\n",
              "163  241475       Venha-Ver  ...              8               3\n",
              "164  241480       Vera Cruz  ...            119               6\n",
              "165  241490          Viçosa  ...              9               0\n",
              "166  241500       Vila Flor  ...             89               0\n",
              "\n",
              "[167 rows x 7 columns]"
            ]
          },
          "metadata": {
            "tags": []
          },
          "execution_count": 96
        }
      ]
    },
    {
      "cell_type": "code",
      "metadata": {
        "id": "sKHmsQzN55hz",
        "colab_type": "code",
        "colab": {
          "base_uri": "https://localhost:8080/",
          "height": 274
        },
        "outputId": "aaf0856a-f7bc-406b-b803-58a718f9be80"
      },
      "source": [
        "casos_municipio.info()"
      ],
      "execution_count": 98,
      "outputs": [
        {
          "output_type": "stream",
          "text": [
            "<class 'pandas.core.frame.DataFrame'>\n",
            "RangeIndex: 167 entries, 0 to 166\n",
            "Data columns (total 7 columns):\n",
            " #   Column            Non-Null Count  Dtype \n",
            "---  ------            --------------  ----- \n",
            " 0   codmun            167 non-null    object\n",
            " 1   municipio         167 non-null    object\n",
            " 2   codRegiaoSaude    167 non-null    object\n",
            " 3   nomeRegiaoSaude   167 non-null    object\n",
            " 4   populacaoTCU2019  167 non-null    int64 \n",
            " 5   casosAcumulado    167 non-null    int64 \n",
            " 6   obitosAcumulado   167 non-null    int64 \n",
            "dtypes: int64(3), object(4)\n",
            "memory usage: 9.3+ KB\n"
          ],
          "name": "stdout"
        }
      ]
    },
    {
      "cell_type": "code",
      "metadata": {
        "id": "s3Er2MnQ5tgI",
        "colab_type": "code",
        "colab": {
          "base_uri": "https://localhost:8080/",
          "height": 736
        },
        "outputId": "664d1fa1-37e6-4f4c-d25b-93e7c2324ffd"
      },
      "source": [
        "quantidade_casos = casos_municipio['casosAcumulado'].sum()\n",
        "porcentagem_casos = casos_municipio['casosAcumulado'] / casos_municipio['populacaoTCU2019']\n",
        "casos_municipio['porcentagem_casos_hab'] = porcentagem_casos\n",
        "casos_municipio['porcentagem_obitos_casos'] = casos_municipio['obitosAcumulado'] / casos_municipio['casosAcumulado']\n",
        "casos_municipio.to_csv('/content/drive/My Drive/Projeto Ciencia de dados - COVID 19/Dados Gerados/ET_CASOS_ACUMULADO_RN.csv',index=False)\n",
        "casos_municipio"
      ],
      "execution_count": 99,
      "outputs": [
        {
          "output_type": "execute_result",
          "data": {
            "text/html": [
              "<div>\n",
              "<style scoped>\n",
              "    .dataframe tbody tr th:only-of-type {\n",
              "        vertical-align: middle;\n",
              "    }\n",
              "\n",
              "    .dataframe tbody tr th {\n",
              "        vertical-align: top;\n",
              "    }\n",
              "\n",
              "    .dataframe thead th {\n",
              "        text-align: right;\n",
              "    }\n",
              "</style>\n",
              "<table border=\"1\" class=\"dataframe\">\n",
              "  <thead>\n",
              "    <tr style=\"text-align: right;\">\n",
              "      <th></th>\n",
              "      <th>codmun</th>\n",
              "      <th>municipio</th>\n",
              "      <th>codRegiaoSaude</th>\n",
              "      <th>nomeRegiaoSaude</th>\n",
              "      <th>populacaoTCU2019</th>\n",
              "      <th>casosAcumulado</th>\n",
              "      <th>obitosAcumulado</th>\n",
              "      <th>porcentagem_casos_hab</th>\n",
              "      <th>porcentagem_obitos_casos</th>\n",
              "    </tr>\n",
              "  </thead>\n",
              "  <tbody>\n",
              "    <tr>\n",
              "      <th>0</th>\n",
              "      <td>240010</td>\n",
              "      <td>Acari</td>\n",
              "      <td>24004</td>\n",
              "      <td>4ª REGIAO DE SAUDE - CAICO</td>\n",
              "      <td>11136</td>\n",
              "      <td>61</td>\n",
              "      <td>3</td>\n",
              "      <td>0.005478</td>\n",
              "      <td>0.049180</td>\n",
              "    </tr>\n",
              "    <tr>\n",
              "      <th>1</th>\n",
              "      <td>240020</td>\n",
              "      <td>Açu</td>\n",
              "      <td>24008</td>\n",
              "      <td>8ª REGIAO DE SAUDE - ACU</td>\n",
              "      <td>58017</td>\n",
              "      <td>1167</td>\n",
              "      <td>51</td>\n",
              "      <td>0.020115</td>\n",
              "      <td>0.043702</td>\n",
              "    </tr>\n",
              "    <tr>\n",
              "      <th>2</th>\n",
              "      <td>240030</td>\n",
              "      <td>Afonso Bezerra</td>\n",
              "      <td>24003</td>\n",
              "      <td>3ª REGIAO DE SAUDE - JOAO CAMARA</td>\n",
              "      <td>11035</td>\n",
              "      <td>101</td>\n",
              "      <td>6</td>\n",
              "      <td>0.009153</td>\n",
              "      <td>0.059406</td>\n",
              "    </tr>\n",
              "    <tr>\n",
              "      <th>3</th>\n",
              "      <td>240040</td>\n",
              "      <td>Água Nova</td>\n",
              "      <td>24006</td>\n",
              "      <td>6ª REGIAO DE SAUDE - PAU DOS FERROS</td>\n",
              "      <td>3252</td>\n",
              "      <td>20</td>\n",
              "      <td>0</td>\n",
              "      <td>0.006150</td>\n",
              "      <td>0.000000</td>\n",
              "    </tr>\n",
              "    <tr>\n",
              "      <th>4</th>\n",
              "      <td>240050</td>\n",
              "      <td>Alexandria</td>\n",
              "      <td>24006</td>\n",
              "      <td>6ª REGIAO DE SAUDE - PAU DOS FERROS</td>\n",
              "      <td>13577</td>\n",
              "      <td>44</td>\n",
              "      <td>4</td>\n",
              "      <td>0.003241</td>\n",
              "      <td>0.090909</td>\n",
              "    </tr>\n",
              "    <tr>\n",
              "      <th>...</th>\n",
              "      <td>...</td>\n",
              "      <td>...</td>\n",
              "      <td>...</td>\n",
              "      <td>...</td>\n",
              "      <td>...</td>\n",
              "      <td>...</td>\n",
              "      <td>...</td>\n",
              "      <td>...</td>\n",
              "      <td>...</td>\n",
              "    </tr>\n",
              "    <tr>\n",
              "      <th>162</th>\n",
              "      <td>241470</td>\n",
              "      <td>Várzea</td>\n",
              "      <td>24001</td>\n",
              "      <td>1ª REGIAO DE SAUDE - SAO JOSE DE MIPIBU</td>\n",
              "      <td>5500</td>\n",
              "      <td>81</td>\n",
              "      <td>5</td>\n",
              "      <td>0.014727</td>\n",
              "      <td>0.061728</td>\n",
              "    </tr>\n",
              "    <tr>\n",
              "      <th>163</th>\n",
              "      <td>241475</td>\n",
              "      <td>Venha-Ver</td>\n",
              "      <td>24006</td>\n",
              "      <td>6ª REGIAO DE SAUDE - PAU DOS FERROS</td>\n",
              "      <td>4177</td>\n",
              "      <td>8</td>\n",
              "      <td>3</td>\n",
              "      <td>0.001915</td>\n",
              "      <td>0.375000</td>\n",
              "    </tr>\n",
              "    <tr>\n",
              "      <th>164</th>\n",
              "      <td>241480</td>\n",
              "      <td>Vera Cruz</td>\n",
              "      <td>24001</td>\n",
              "      <td>1ª REGIAO DE SAUDE - SAO JOSE DE MIPIBU</td>\n",
              "      <td>12481</td>\n",
              "      <td>119</td>\n",
              "      <td>6</td>\n",
              "      <td>0.009534</td>\n",
              "      <td>0.050420</td>\n",
              "    </tr>\n",
              "    <tr>\n",
              "      <th>165</th>\n",
              "      <td>241490</td>\n",
              "      <td>Viçosa</td>\n",
              "      <td>24006</td>\n",
              "      <td>6ª REGIAO DE SAUDE - PAU DOS FERROS</td>\n",
              "      <td>1718</td>\n",
              "      <td>9</td>\n",
              "      <td>0</td>\n",
              "      <td>0.005239</td>\n",
              "      <td>0.000000</td>\n",
              "    </tr>\n",
              "    <tr>\n",
              "      <th>166</th>\n",
              "      <td>241500</td>\n",
              "      <td>Vila Flor</td>\n",
              "      <td>24001</td>\n",
              "      <td>1ª REGIAO DE SAUDE - SAO JOSE DE MIPIBU</td>\n",
              "      <td>3170</td>\n",
              "      <td>89</td>\n",
              "      <td>0</td>\n",
              "      <td>0.028076</td>\n",
              "      <td>0.000000</td>\n",
              "    </tr>\n",
              "  </tbody>\n",
              "</table>\n",
              "<p>167 rows × 9 columns</p>\n",
              "</div>"
            ],
            "text/plain": [
              "     codmun       municipio  ... porcentagem_casos_hab porcentagem_obitos_casos\n",
              "0    240010           Acari  ...              0.005478                 0.049180\n",
              "1    240020             Açu  ...              0.020115                 0.043702\n",
              "2    240030  Afonso Bezerra  ...              0.009153                 0.059406\n",
              "3    240040       Água Nova  ...              0.006150                 0.000000\n",
              "4    240050      Alexandria  ...              0.003241                 0.090909\n",
              "..      ...             ...  ...                   ...                      ...\n",
              "162  241470          Várzea  ...              0.014727                 0.061728\n",
              "163  241475       Venha-Ver  ...              0.001915                 0.375000\n",
              "164  241480       Vera Cruz  ...              0.009534                 0.050420\n",
              "165  241490          Viçosa  ...              0.005239                 0.000000\n",
              "166  241500       Vila Flor  ...              0.028076                 0.000000\n",
              "\n",
              "[167 rows x 9 columns]"
            ]
          },
          "metadata": {
            "tags": []
          },
          "execution_count": 99
        }
      ]
    },
    {
      "cell_type": "code",
      "metadata": {
        "id": "Eea74PfRgBuI",
        "colab_type": "code",
        "colab": {
          "base_uri": "https://localhost:8080/",
          "height": 297
        },
        "outputId": "7f6965b3-eeb9-4469-b4a2-8c80a5982a52"
      },
      "source": [
        "sns.distplot(casos_municipio[\"casosAcumulado\"])"
      ],
      "execution_count": 100,
      "outputs": [
        {
          "output_type": "execute_result",
          "data": {
            "text/plain": [
              "<matplotlib.axes._subplots.AxesSubplot at 0x7f233af21978>"
            ]
          },
          "metadata": {
            "tags": []
          },
          "execution_count": 100
        },
        {
          "output_type": "display_data",
          "data": {
            "image/png": "[encoded data removed]",
            "text/plain": [
              "<Figure size 432x288 with 1 Axes>"
            ]
          },
          "metadata": {
            "tags": [],
            "needs_background": "light"
          }
        }
      ]
    },
    {
      "cell_type": "code",
      "metadata": {
        "id": "og6xS6r7J4K2",
        "colab_type": "code",
        "colab": {
          "base_uri": "https://localhost:8080/",
          "height": 301
        },
        "outputId": "a2719421-d120-4ccb-9dfe-609f974478d5"
      },
      "source": [
        "sns.distplot(casos_municipio[\"porcentagem_casos_hab\"])"
      ],
      "execution_count": null,
      "outputs": [
        {
          "output_type": "execute_result",
          "data": {
            "text/plain": [
              "<matplotlib.axes._subplots.AxesSubplot at 0x7f232e421e80>"
            ]
          },
          "metadata": {
            "tags": []
          },
          "execution_count": 59
        },
        {
          "output_type": "display_data",
          "data": {
            "image/png": "[encoded data removed]",
            "text/plain": [
              "<Figure size 432x288 with 1 Axes>"
            ]
          },
          "metadata": {
            "tags": [],
            "needs_background": "light"
          }
        }
      ]
    },
    {
      "cell_type": "code",
      "metadata": {
        "id": "zKKhOvXggfh6",
        "colab_type": "code",
        "colab": {
          "base_uri": "https://localhost:8080/",
          "height": 297
        },
        "outputId": "ff90bf33-7baf-4126-c276-3f21e9c19e6d"
      },
      "source": [
        "casos_log = np.log(casos_municipio[\"casosAcumulado\"])\n",
        "sns.distplot(casos_log,fit=norm)"
      ],
      "execution_count": null,
      "outputs": [
        {
          "output_type": "execute_result",
          "data": {
            "text/plain": [
              "<matplotlib.axes._subplots.AxesSubplot at 0x7f232e417b70>"
            ]
          },
          "metadata": {
            "tags": []
          },
          "execution_count": 60
        },
        {
          "output_type": "display_data",
          "data": {
            "image/png": "[encoded data removed]",
            "text/plain": [
              "<Figure size 432x288 with 1 Axes>"
            ]
          },
          "metadata": {
            "tags": [],
            "needs_background": "light"
          }
        }
      ]
    },
    {
      "cell_type": "code",
      "metadata": {
        "id": "QuNMgKr5NEO1",
        "colab_type": "code",
        "colab": {
          "base_uri": "https://localhost:8080/",
          "height": 279
        },
        "outputId": "e3954844-3974-465e-c099-b75d91060151"
      },
      "source": [
        "populacao_casoacumulado = casos_municipio.loc[:,['populacaoTCU2019','casosAcumulado']]\n",
        "sns.regplot(x=\"populacaoTCU2019\", y=\"casosAcumulado\", data=populacao_casoacumulado)\n",
        "plt.show()"
      ],
      "execution_count": null,
      "outputs": [
        {
          "output_type": "display_data",
          "data": {
            "image/png": "[encoded data removed]",
            "text/plain": [
              "<Figure size 432x288 with 1 Axes>"
            ]
          },
          "metadata": {
            "tags": [],
            "needs_background": "light"
          }
        }
      ]
    },
    {
      "cell_type": "code",
      "metadata": {
        "id": "5jZDo_mhj5q5",
        "colab_type": "code",
        "colab": {
          "base_uri": "https://localhost:8080/",
          "height": 112
        },
        "outputId": "5b999178-7cac-4fd6-9b8c-34eceb1f027b"
      },
      "source": [
        "populacao_casoacumulado.corr()"
      ],
      "execution_count": null,
      "outputs": [
        {
          "output_type": "execute_result",
          "data": {
            "text/html": [
              "<div>\n",
              "<style scoped>\n",
              "    .dataframe tbody tr th:only-of-type {\n",
              "        vertical-align: middle;\n",
              "    }\n",
              "\n",
              "    .dataframe tbody tr th {\n",
              "        vertical-align: top;\n",
              "    }\n",
              "\n",
              "    .dataframe thead th {\n",
              "        text-align: right;\n",
              "    }\n",
              "</style>\n",
              "<table border=\"1\" class=\"dataframe\">\n",
              "  <thead>\n",
              "    <tr style=\"text-align: right;\">\n",
              "      <th></th>\n",
              "      <th>populacaoTCU2019</th>\n",
              "      <th>casosAcumulado</th>\n",
              "    </tr>\n",
              "  </thead>\n",
              "  <tbody>\n",
              "    <tr>\n",
              "      <th>populacaoTCU2019</th>\n",
              "      <td>1.000000</td>\n",
              "      <td>0.993275</td>\n",
              "    </tr>\n",
              "    <tr>\n",
              "      <th>casosAcumulado</th>\n",
              "      <td>0.993275</td>\n",
              "      <td>1.000000</td>\n",
              "    </tr>\n",
              "  </tbody>\n",
              "</table>\n",
              "</div>"
            ],
            "text/plain": [
              "                  populacaoTCU2019  casosAcumulado\n",
              "populacaoTCU2019          1.000000        0.993275\n",
              "casosAcumulado            0.993275        1.000000"
            ]
          },
          "metadata": {
            "tags": []
          },
          "execution_count": 62
        }
      ]
    },
    {
      "cell_type": "code",
      "metadata": {
        "id": "Fx8p37k6kG__",
        "colab_type": "code",
        "colab": {
          "base_uri": "https://localhost:8080/",
          "height": 112
        },
        "outputId": "4c0cb95e-e3e2-430c-b433-7ec7438082f2"
      },
      "source": [
        "populacao_casoacumulado.cov()"
      ],
      "execution_count": null,
      "outputs": [
        {
          "output_type": "execute_result",
          "data": {
            "text/html": [
              "<div>\n",
              "<style scoped>\n",
              "    .dataframe tbody tr th:only-of-type {\n",
              "        vertical-align: middle;\n",
              "    }\n",
              "\n",
              "    .dataframe tbody tr th {\n",
              "        vertical-align: top;\n",
              "    }\n",
              "\n",
              "    .dataframe thead th {\n",
              "        text-align: right;\n",
              "    }\n",
              "</style>\n",
              "<table border=\"1\" class=\"dataframe\">\n",
              "  <thead>\n",
              "    <tr style=\"text-align: right;\">\n",
              "      <th></th>\n",
              "      <th>populacaoTCU2019</th>\n",
              "      <th>casosAcumulado</th>\n",
              "    </tr>\n",
              "  </thead>\n",
              "  <tbody>\n",
              "    <tr>\n",
              "      <th>populacaoTCU2019</th>\n",
              "      <td>5.576790e+09</td>\n",
              "      <td>1.298985e+08</td>\n",
              "    </tr>\n",
              "    <tr>\n",
              "      <th>casosAcumulado</th>\n",
              "      <td>1.298985e+08</td>\n",
              "      <td>3.066795e+06</td>\n",
              "    </tr>\n",
              "  </tbody>\n",
              "</table>\n",
              "</div>"
            ],
            "text/plain": [
              "                  populacaoTCU2019  casosAcumulado\n",
              "populacaoTCU2019      5.576790e+09    1.298985e+08\n",
              "casosAcumulado        1.298985e+08    3.066795e+06"
            ]
          },
          "metadata": {
            "tags": []
          },
          "execution_count": 63
        }
      ]
    },
    {
      "cell_type": "code",
      "metadata": {
        "id": "37oktmtT4Edy",
        "colab_type": "code",
        "colab": {
          "base_uri": "https://localhost:8080/",
          "height": 279
        },
        "outputId": "ef15c7a3-8e51-4ae9-fe93-5ef21a8b012f"
      },
      "source": [
        "populacao_casoacumulado = casos_municipio.loc[:,['populacaoTCU2019','porcentagem_casos_hab']]\n",
        "sns.regplot(x=\"populacaoTCU2019\", y=\"porcentagem_casos_hab\", data=populacao_casoacumulado)\n",
        "plt.xlabel('Tamanho da população')\n",
        "plt.ylabel('Porcentagem de casos')\n",
        "plt.show()"
      ],
      "execution_count": null,
      "outputs": [
        {
          "output_type": "display_data",
          "data": {
            "image/png": "[encoded data removed]",
            "text/plain": [
              "<Figure size 432x288 with 1 Axes>"
            ]
          },
          "metadata": {
            "tags": [],
            "needs_background": "light"
          }
        }
      ]
    }
  ]
}